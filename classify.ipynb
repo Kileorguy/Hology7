{
 "cells": [
  {
   "cell_type": "code",
   "execution_count": 1,
   "metadata": {},
   "outputs": [],
   "source": [
    "import os\n",
    "import tensorflow as tf\n",
    "import cv2 as cv\n",
    "import pandas as pd\n",
    "from matplotlib import pyplot as plt\n",
    "import numpy as np\n",
    "\n",
    "from sklearn.model_selection import train_test_split\n",
    "from ipynb.fs.full.preProcess import basic_preProcess, color_preProcess, category_preProcess\n",
    "\n",
    "import tensorflow as tf\n",
    "import tensorflow.keras as keras\n",
    "from tensorflow.keras.models import Model\n",
    "from tensorflow.keras.optimizers import Adam\n",
    "from tensorflow.keras.layers import BatchNormalization,Conv2D,MaxPooling2D,Activation,Dropout,Lambda,Dense,Flatten, Input\n",
    "from tensorflow.keras.utils import to_categorical\n",
    "from tensorflow.keras.layers import Concatenate"
   ]
  },
  {
   "cell_type": "code",
   "execution_count": 2,
   "metadata": {},
   "outputs": [],
   "source": [
    "def plot_image(img):\n",
    "    plt.imshow(cv.cvtColor(img,cv.COLOR_BGR2RGB))\n",
    "    plt.show()"
   ]
  },
  {
   "cell_type": "code",
   "execution_count": 3,
   "metadata": {},
   "outputs": [],
   "source": [
    "# For Google Colab:\n",
    "# from google.colab import drive\n",
    "# drive.mount('/content/drive')\n",
    "\n",
    "# train_dir = './train/'\n",
    "test_dir = './test/'\n",
    "\n",
    "test_dir_color = './processed_test/color'\n",
    "test_dir_category = './processed_test/category/'\n",
    "train_df = pd.read_csv('./train.csv')"
   ]
  },
  {
   "cell_type": "code",
   "execution_count": 4,
   "metadata": {},
   "outputs": [],
   "source": [
    "test_data_color = []\n",
    "test_data_category = []\n",
    "\n",
    "test_ids = []\n",
    "\n",
    "input_shape = (224, 224, 3)\n",
    "\n",
    "for i in os.listdir(test_dir_category):\n",
    "    if(i is not None):\n",
    "        img_path = os.path.join(test_dir_category, i)\n",
    "        img = cv.imread(img_path)\n",
    "        if(img is not None): \n",
    "          img_ca = cv.resize(img, (224, 224))\n",
    "          img_ca = img_ca.reshape(224, 224, 3)\n",
    "          \n",
    "          test_data_category.append(img_ca)\n",
    "          test_ids.append(i[:-4])\n",
    "\n",
    "        else:\n",
    "          print(\"no image found\")\n",
    "\n",
    "\"\"\"\n",
    "  Kegunaan dari loop diatas dan bawah yaitu untuk mengambil data dari gambar yang sudah di preprocess dan disimpan di directory sesuai dengan variablenya yang berada di './processed_test'. Data akan dibaca melalui open cv dan diresize, setelah itu akan dimasukkan ke dalam array yang bersangkutan dengan datanya (category atau color). \n",
    "  \n",
    "  Selain itu, idnya juga disimpan supaya nanti dapat ditulis ke dalam CSV submission.\n",
    "\n",
    "\"\"\"\n",
    "\n",
    "for i in os.listdir(test_dir_color):\n",
    "    if(i is not None):\n",
    "        img_path = os.path.join(test_dir_color, i)\n",
    "        img = cv.imread(img_path)\n",
    "        if(img is not None): \n",
    "          img_co = cv.resize(img, (224, 224))\n",
    "          img_co = img_co.reshape(224, 224, 3)\n",
    "          \n",
    "          test_data_color.append(img_co)\n",
    "\n",
    "        else:\n",
    "          print(\"no image found\")\n"
   ]
  },
  {
   "cell_type": "code",
   "execution_count": 5,
   "metadata": {},
   "outputs": [
    {
     "data": {
      "text/plain": [
       "'\\n   Mengubah array yang menampung gambar menjadi numpy array supaya dapat diproses oleh model yang dibaca melalui library keras.\\n'"
      ]
     },
     "execution_count": 5,
     "metadata": {},
     "output_type": "execute_result"
    }
   ],
   "source": [
    "test_data_category = np.array(test_data_category)\n",
    "test_data_color = np.array(test_data_color)\n",
    "\n",
    "\"\"\"\n",
    "   Mengubah array yang menampung gambar menjadi numpy array supaya dapat diproses oleh model yang dibaca melalui library keras.\n",
    "\"\"\""
   ]
  },
  {
   "cell_type": "code",
   "execution_count": 6,
   "metadata": {},
   "outputs": [
    {
     "data": {
      "text/plain": [
       "\"\\n   Mengambil bentuk model '.h5' yang berada pada directory './models'\\n\""
      ]
     },
     "execution_count": 6,
     "metadata": {},
     "output_type": "execute_result"
    }
   ],
   "source": [
    "category_model = keras.models.load_model(\"./models/new_processed/category_96.h5\")\n",
    "color_model = keras.models.load_model(\"./models/new_processed/color_94.h5\")\n",
    "\n",
    "\"\"\"\n",
    "   Mengambil bentuk model '.h5' yang berada pada directory './models'\n",
    "\"\"\"\n"
   ]
  },
  {
   "cell_type": "code",
   "execution_count": 7,
   "metadata": {},
   "outputs": [
    {
     "name": "stdout",
     "output_type": "stream",
     "text": [
      "11/11 [==============================] - 5s 28ms/step\n",
      "11/11 [==============================] - 0s 18ms/step\n"
     ]
    },
    {
     "data": {
      "text/plain": [
       "'\\n   Melakukan iterasi pada jenis dan warna supaya dapat dijadikan satu array full yang hanya terdiri dari class predictionnya saja sesuai dengan codenya menggunakan argmax. Setelah itu, array hasil prediksi akan dimasukkan ke dalam DataFrame dan di write menjadi submission.csv\\n'"
      ]
     },
     "execution_count": 7,
     "metadata": {},
     "output_type": "execute_result"
    }
   ],
   "source": [
    "prediction_jenis = category_model.predict(test_data_category)\n",
    "prediction_warna = color_model.predict(test_data_color)\n",
    "\n",
    "\"\"\"\n",
    "   Bagian ini berfungsi untuk memprediksi dataset test sesuai dengan modelnya masing - masing\n",
    "\"\"\"\n",
    "\n",
    "final_jenis = []\n",
    "final_warna = []\n",
    "\n",
    "\n",
    "for p_jenis, p_warna in zip(prediction_jenis,prediction_warna):\n",
    "    final_jenis.append(np.argmax(p_jenis))\n",
    "    final_warna.append(np.argmax(p_warna))\n",
    "final = pd.DataFrame({'id':test_ids, 'jenis': final_jenis,'warna': final_warna})\n",
    "final.to_csv('submission.csv', index=False)\n",
    "\n",
    "\"\"\"\n",
    "   Melakukan iterasi pada jenis dan warna supaya dapat dijadikan satu array full yang hanya terdiri dari class predictionnya saja sesuai dengan codenya menggunakan argmax. Setelah itu, array hasil prediksi akan dimasukkan ke dalam DataFrame dan di write menjadi submission.csv\n",
    "\"\"\""
   ]
  }
 ],
 "metadata": {
  "kernelspec": {
   "display_name": "deep_learning",
   "language": "python",
   "name": "python3"
  },
  "language_info": {
   "codemirror_mode": {
    "name": "ipython",
    "version": 3
   },
   "file_extension": ".py",
   "mimetype": "text/x-python",
   "name": "python",
   "nbconvert_exporter": "python",
   "pygments_lexer": "ipython3",
   "version": "3.10.15"
  }
 },
 "nbformat": 4,
 "nbformat_minor": 2
}
