{
 "cells": [
  {
   "cell_type": "code",
   "execution_count": 1,
   "metadata": {},
   "outputs": [],
   "source": [
    "import os\n",
    "import tensorflow as tf\n",
    "import cv2 as cv\n",
    "import pandas as pd\n",
    "from matplotlib import pyplot as plt\n",
    "import numpy as np\n",
    "\n",
    "from sklearn.model_selection import train_test_split\n",
    "from ipynb.fs.full.preProcess import basic_preProcess, color_preProcess, category_preProcess\n",
    "\n",
    "import tensorflow as tf\n",
    "import tensorflow.keras as keras\n",
    "from tensorflow.keras.models import Model\n",
    "from tensorflow.keras.optimizers import Adam\n",
    "from tensorflow.keras.layers import BatchNormalization,Conv2D,MaxPooling2D,Activation,Dropout,Lambda,Dense,Flatten, Input\n",
    "from tensorflow.keras.utils import to_categorical\n",
    "from tensorflow.keras.layers import Concatenate"
   ]
  },
  {
   "cell_type": "code",
   "execution_count": 2,
   "metadata": {},
   "outputs": [],
   "source": [
    "def plot_image(img):\n",
    "    plt.imshow(cv.cvtColor(img,cv.COLOR_BGR2RGB))\n",
    "    plt.show()"
   ]
  },
  {
   "cell_type": "code",
   "execution_count": 3,
   "metadata": {},
   "outputs": [],
   "source": [
    "# For Google Colab:\n",
    "# from google.colab import drive\n",
    "# drive.mount('/content/drive')\n",
    "\n",
    "# train_dir = './train/'\n",
    "test_dir = './test/'\n",
    "# train_df = pd.read_csv('./train.csv')\n",
    "\n",
    "test_dir_color = './processed_test/color'\n",
    "test_dir_category = './processed_test/category/'\n",
    "train_df = pd.read_csv('./train.csv')"
   ]
  },
  {
   "cell_type": "code",
   "execution_count": 4,
   "metadata": {},
   "outputs": [],
   "source": [
    "test_data_color = []\n",
    "test_data_category = []\n",
    "\n",
    "# test_data = []\n",
    "test_ids = []\n",
    "\n",
    "input_shape = (224, 224, 3)\n",
    "\n",
    "# for i in os.listdir(test_dir):\n",
    "#     if(i is not None):\n",
    "#       img_path = os.path.join(test_dir, i)\n",
    "#       img = cv.imread(img_path)\n",
    "#       if(img is not None):\n",
    "\n",
    "#         img_ca = img.copy()\n",
    "#         img_co = img.copy()\n",
    "\n",
    "#         img_color = color_preProcess(img_co)\n",
    "#         img_category = category_preProcess(img_ca)\n",
    "\n",
    "#         img_color_output = basic_preProcess(img_color)\n",
    "#         img_category_output = basic_preProcess(img_category)\n",
    "\n",
    "#         # test_data.append(img)\n",
    "#         test_data_color.append(img_color_output)\n",
    "#         test_data_category.append(img_category_output)\n",
    "#         test_ids.append(i[:-4])\n",
    "#       else:\n",
    "#         print(\"no image found\")\n",
    "\n",
    "for i in os.listdir(test_dir_category):\n",
    "    if(i is not None):\n",
    "        # print(i)\n",
    "        img_path = os.path.join(test_dir_category, i)\n",
    "        img = cv.imread(img_path)\n",
    "        if(img is not None): \n",
    "          img_ca = cv.resize(img, (224, 224))\n",
    "          img_ca = img_ca.reshape(224, 224, 3)\n",
    "          \n",
    "          test_data_category.append(img_ca)\n",
    "          test_ids.append(i[:-4])\n",
    "\n",
    "        else:\n",
    "          print(\"no image found\")\n",
    "\n",
    "for i in os.listdir(test_dir_color):\n",
    "    if(i is not None):\n",
    "        # print(i)\n",
    "        img_path = os.path.join(test_dir_color, i)\n",
    "        img = cv.imread(img_path)\n",
    "        if(img is not None): \n",
    "          img_co = cv.resize(img, (224, 224))\n",
    "          img_co = img_co.reshape(224, 224, 3)\n",
    "          \n",
    "          test_data_color.append(img_co)\n",
    "          # test_ids.append(i[:-4])\n",
    "\n",
    "        else:\n",
    "          print(\"no image found\")\n",
    "\n",
    "# for i in os.listdir(test_dir_color):\n",
    "#     if(i is not None):\n",
    "#         img_path = os.path.join(test_dir_color, i)\n",
    "#         img = cv.imread(img_path)\n",
    "#         if(img is not None):          \n",
    "#           test_data_color.append(img)\n",
    "#           # test_ids.append(i[:-4])\n",
    "\n",
    "#         else:\n",
    "#           print(\"no image found\")"
   ]
  },
  {
   "cell_type": "code",
   "execution_count": null,
   "metadata": {},
   "outputs": [],
   "source": []
  },
  {
   "cell_type": "code",
   "execution_count": 5,
   "metadata": {},
   "outputs": [],
   "source": [
    "test_data_category = np.array(test_data_category)\n",
    "test_data_color = np.array(test_data_color)"
   ]
  },
  {
   "cell_type": "code",
   "execution_count": 6,
   "metadata": {},
   "outputs": [],
   "source": [
    "category_model = keras.models.load_model(\"./models/new_processed/category_96.h5\")\n",
    "color_model = keras.models.load_model(\"./models/new_processed/color_94.h5\")"
   ]
  },
  {
   "cell_type": "code",
   "execution_count": 7,
   "metadata": {},
   "outputs": [],
   "source": [
    "# print(test_data_color.)"
   ]
  },
  {
   "cell_type": "code",
   "execution_count": 8,
   "metadata": {},
   "outputs": [
    {
     "name": "stdout",
     "output_type": "stream",
     "text": [
      "11/11 [==============================] - 3s 27ms/step\n",
      "11/11 [==============================] - 0s 18ms/step\n"
     ]
    }
   ],
   "source": [
    "# test_data = np.array(test_data)\n",
    "\n",
    "\n",
    "\n",
    "# test_data_category = np.asarray(test_data_category).astype('float32')\n",
    "# test_data_color = np.asarray(test_data_color).astype('float32')\n",
    "\n",
    "# test_data_category = np.expand_dims(test_data_category, axis=0)\n",
    "# test_data_color = np.expand_dims(test_data_color, axis=0)\n",
    "\n",
    "# test_data_category=np.asarray(test_data_category).astype(np.float32)\n",
    "# test_data_color=np.asarray(test_data_color).astype(np.float32)\n",
    "\n",
    "prediction_jenis = category_model.predict(test_data_category)\n",
    "prediction_warna = color_model.predict(test_data_color)\n",
    "\n",
    "final_jenis = []\n",
    "final_warna = []\n",
    "\n",
    "\n",
    "for p_jenis, p_warna in zip(prediction_jenis,prediction_warna):\n",
    "    final_jenis.append(np.argmax(p_jenis))\n",
    "    final_warna.append(np.argmax(p_warna))\n",
    "final = pd.DataFrame({'id':test_ids, 'jenis': final_jenis,'warna': final_warna})\n",
    "final.to_csv('submission.csv', index=False)"
   ]
  }
 ],
 "metadata": {
  "kernelspec": {
   "display_name": "deep_learning",
   "language": "python",
   "name": "python3"
  },
  "language_info": {
   "codemirror_mode": {
    "name": "ipython",
    "version": 3
   },
   "file_extension": ".py",
   "mimetype": "text/x-python",
   "name": "python",
   "nbconvert_exporter": "python",
   "pygments_lexer": "ipython3",
   "version": "3.10.15"
  }
 },
 "nbformat": 4,
 "nbformat_minor": 2
}
