{
 "cells": [
  {
   "cell_type": "markdown",
   "metadata": {},
   "source": [
    "# Jenis\n",
    "- 0 -> kaos\n",
    "- 1 -> hoodie\n",
    "# Warna\n",
    "- 0: merah, \n",
    "- 1: kuning, \n",
    "- 2:biru, \n",
    "- 3: hitam, \n",
    "- 4:putih\n"
   ]
  },
  {
   "cell_type": "code",
   "execution_count": 1,
   "metadata": {},
   "outputs": [
    {
     "ename": "ModuleNotFoundError",
     "evalue": "No module named 'matplotlib'",
     "output_type": "error",
     "traceback": [
      "\u001b[1;31m---------------------------------------------------------------------------\u001b[0m",
      "\u001b[1;31mModuleNotFoundError\u001b[0m                       Traceback (most recent call last)",
      "Cell \u001b[1;32mIn[1], line 2\u001b[0m\n\u001b[0;32m      1\u001b[0m \u001b[38;5;28;01mimport\u001b[39;00m \u001b[38;5;21;01mpandas\u001b[39;00m \u001b[38;5;28;01mas\u001b[39;00m \u001b[38;5;21;01mpd\u001b[39;00m\n\u001b[1;32m----> 2\u001b[0m \u001b[38;5;28;01mimport\u001b[39;00m \u001b[38;5;21;01mmatplotlib\u001b[39;00m\u001b[38;5;21;01m.\u001b[39;00m\u001b[38;5;21;01mpyplot\u001b[39;00m \u001b[38;5;28;01mas\u001b[39;00m \u001b[38;5;21;01mplt\u001b[39;00m\n\u001b[0;32m      3\u001b[0m \u001b[38;5;28;01mimport\u001b[39;00m \u001b[38;5;21;01mcv2\u001b[39;00m\n\u001b[0;32m      4\u001b[0m \u001b[38;5;28;01mimport\u001b[39;00m \u001b[38;5;21;01mos\u001b[39;00m\n",
      "\u001b[1;31mModuleNotFoundError\u001b[0m: No module named 'matplotlib'"
     ]
    }
   ],
   "source": [
    "import pandas as pd\n",
    "import matplotlib.pyplot as plt\n",
    "import cv2\n",
    "import os\n",
    "\n",
    "df = pd.read_csv(\"./penyisihan-hology-7-data-mining-competition/train.csv\", index_col='id')\n",
    "imgs = []\n",
    "imgs_gray = []\n",
    "imgs_hsv = []\n",
    "\n",
    "#both df and imgs array index start from 1\n",
    "imgs.append(None)\n",
    "path = os.listdir(\"./penyisihan-hology-7-data-mining-competition/train/train\")\n",
    "\n",
    "for i in path:\n",
    "    temp = cv2.imread(\"./penyisihan-hology-7-data-mining-competition/train/train/\" + i)\n",
    "    temp2 = cv2.cvtColor(temp, cv2.COLOR_BGR2GRAY)    \n",
    "    imgs.append(temp)\n",
    "    imgs_hsv.append(cv2.cvtColor(temp, cv2.COLOR_BGR2HSV))\n",
    "    imgs_gray.append(temp2)"
   ]
  }
 ],
 "metadata": {
  "kernelspec": {
   "display_name": "hology",
   "language": "python",
   "name": "python3"
  },
  "language_info": {
   "codemirror_mode": {
    "name": "ipython",
    "version": 3
   },
   "file_extension": ".py",
   "mimetype": "text/x-python",
   "name": "python",
   "nbconvert_exporter": "python",
   "pygments_lexer": "ipython3",
   "version": "3.10.15"
  }
 },
 "nbformat": 4,
 "nbformat_minor": 2
}
