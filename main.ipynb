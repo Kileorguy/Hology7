{
 "cells": [
  {
   "cell_type": "code",
   "execution_count": 154,
   "metadata": {},
   "outputs": [],
   "source": [
    "import os\n",
    "import tensorflow as tf\n",
    "import cv2 as cv\n",
    "import pandas as pd\n",
    "from matplotlib import pyplot as plt\n",
    "import numpy as np\n",
    "\n",
    "# from keras.models import Model\n",
    "import tensorflow as tf\n",
    "import tensorflow.keras as keras\n",
    "from tensorflow.keras.models import Model\n",
    "from tensorflow.keras.optimizers import Adam\n",
    "from tensorflow.keras.layers import BatchNormalization,Conv2D,MaxPooling2D,Activation,Dropout,Lambda,Dense,Flatten, Input"
   ]
  },
  {
   "cell_type": "code",
   "execution_count": 155,
   "metadata": {},
   "outputs": [],
   "source": [
    "def preProcess(img):\n",
    "\n",
    "    return img\n"
   ]
  },
  {
   "cell_type": "code",
   "execution_count": 156,
   "metadata": {},
   "outputs": [
    {
     "name": "stdout",
     "output_type": "stream",
     "text": [
      "777\n",
      "777\n",
      "777\n"
     ]
    }
   ],
   "source": [
    "train_dir = './train/'\n",
    "test_dir = './test/'\n",
    "train_df = pd.read_csv('./train.csv')\n",
    "\n",
    "train_data = []\n",
    "train_jenis = []\n",
    "train_warna =[]\n",
    "\n",
    "test_data = []\n",
    "\n",
    "input_shape = (224,224,3)\n",
    "\n",
    "for i in os.listdir(train_dir):\n",
    "    if(i is not None):\n",
    "        img = cv.imread(train_dir+i)\n",
    "        img = preProcess(img)\n",
    "\n",
    "        train_data.append(img)\n",
    "\n",
    "        cond = train_df['id'] == int(i[:-4])\n",
    "        idx = train_df.loc[cond].index[0]\n",
    "        train_jenis.append(train_df.iloc[idx]['jenis'])\n",
    "        train_warna.append(train_df.iloc[idx]['warna'])\n",
    "\n",
    "for i in os.listdir(test_dir):\n",
    "    if(i is not None):\n",
    "        img = cv.imread(test_dir+i)\n",
    "        img = preProcess(img)\n",
    "        test_data.append(img)\n",
    "\n",
    "\n",
    "print(len(train_data))\n",
    "print(len(train_jenis))\n",
    "print(len(train_warna))\n",
    "    \n"
   ]
  },
  {
   "cell_type": "code",
   "execution_count": 157,
   "metadata": {},
   "outputs": [],
   "source": [
    "def plot_image(img):\n",
    "    plt.imshow(cv.cvtColor(img,cv.COLOR_BGR2RGB))\n",
    "    plt.show()"
   ]
  },
  {
   "cell_type": "code",
   "execution_count": 158,
   "metadata": {},
   "outputs": [],
   "source": [
    "def AlexNet(input_shape, nb_class):\n",
    "    inputs = Input(shape=input_shape)\n",
    "    x = Conv2D(filters=96, kernel_size=(11, 11), strides=4, padding='valid', activation='relu')(inputs)\n",
    "\n",
    "\n",
    "    x = MaxPooling2D(pool_size=(3, 3), strides=(2,2), padding='valid')(x)\n",
    "\n",
    "    x = Conv2D(filters=256, kernel_size=(5, 5), strides=1, padding='valid', activation='relu')(x)\n",
    "    x = MaxPooling2D(pool_size=(3, 3), strides=(2,2), padding='valid')(x)\n",
    "\n",
    "    x = Conv2D(filters=384, kernel_size=(3, 3), strides=1, padding='valid', activation='relu')(x)\n",
    "    x = Conv2D(filters=384, kernel_size=(3, 3), strides=1, padding='valid', activation='relu')(x)\n",
    "    x = Conv2D(filters=256, kernel_size=(3, 3), strides=1, padding='valid', activation='relu')(x)\n",
    "    # x = Conv2D(filters=256, kernel_size=(3, 3), strides=2, padding='valid', activation='relu')(x)\n",
    "\n",
    "    x = MaxPooling2D(pool_size=(3, 3), strides=(2,2), padding='valid')(x)\n",
    "\n",
    "    x = Flatten()(x)\n",
    "    x = Dense(9216, activation='relu')(x)\n",
    "\n",
    "    x = Dense(4096, activation='relu')(x)\n",
    "    x = Dense(4096, activation='relu')(x)\n",
    "\n",
    "    x = Dense(nb_class, activation='softmax')(x)\n",
    "    \n",
    "    model = tf.keras.models.Model(inputs=inputs, outputs=x)\n",
    "    return model"
   ]
  },
  {
   "cell_type": "code",
   "execution_count": 162,
   "metadata": {},
   "outputs": [
    {
     "name": "stdout",
     "output_type": "stream",
     "text": [
      "2\n",
      "5\n"
     ]
    }
   ],
   "source": [
    "print(len(np.unique(train_jenis)))\n",
    "print(len(np.unique(train_warna)))\n",
    "# color_model = AlexNet(input_shape, nb_class)\n",
    "colorBranch = AlexNet(input_shape=input_shape, nb_class=len(np.unique(train_warna)))\n",
    "categoryBranch = AlexNet(input_shape=input_shape, nb_class=len(np.unique(train_warna)))\n",
    "model = Model(\n",
    "\t\t\tinputs=input_shape,\n",
    "\t\t\toutputs=[categoryBranch, colorBranch],\n",
    "            )"
   ]
  },
  {
   "cell_type": "code",
   "execution_count": null,
   "metadata": {},
   "outputs": [],
   "source": []
  }
 ],
 "metadata": {
  "kernelspec": {
   "display_name": "Python 3",
   "language": "python",
   "name": "python3"
  },
  "language_info": {
   "codemirror_mode": {
    "name": "ipython",
    "version": 3
   },
   "file_extension": ".py",
   "mimetype": "text/x-python",
   "name": "python",
   "nbconvert_exporter": "python",
   "pygments_lexer": "ipython3",
   "version": "3.10.9"
  }
 },
 "nbformat": 4,
 "nbformat_minor": 2
}
